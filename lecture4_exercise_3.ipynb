{
 "cells": [
  {
   "cell_type": "code",
   "execution_count": 35,
   "id": "bdfa1494-86a7-4450-a4c4-7a89bfa78bee",
   "metadata": {},
   "outputs": [],
   "source": [
    "#Copying the classes from the previous exercise\n",
    "class NeuronalCell:\n",
    "    def __init__(self, V_membrane, type):\n",
    "        self.V_membrane = V_membrane\n",
    "        self.type = type\n",
    "    def receiveSpike(self, spike):\n",
    "        self.V_membrane = self.V_membrane + spike\n",
    "    def sendSpike(self):\n",
    "        if(self.V_membrane > -65):\n",
    "            return 5\n",
    "        else:\n",
    "            return 0\n",
    "    def __str__(self):\n",
    "        return f\"{self.type} type neuron (V={self.V_membrane})\"\n",
    "\n",
    "#I changed the constructors to automatically set the type\n",
    "\n",
    "class PyramidalNeuron(NeuronalCell):\n",
    "    def __init__(self, V_membrane):\n",
    "        self.V_membrane = V_membrane\n",
    "        self.type = \"Pyramidal\"\n",
    "    def __str__(self):\n",
    "        return super().__str__()\n",
    "\n",
    "class OvoidNeuron(NeuronalCell):\n",
    "    def __init__(self, V_membrane):\n",
    "        self.V_membrane = V_membrane\n",
    "        self.type = \"Ovoid\"\n",
    "    def __str__(self):\n",
    "        return super().__str__()"
   ]
  },
  {
   "cell_type": "raw",
   "id": "63b8ba25-ee33-4f9f-a0a6-ee13e5c2bdd1",
   "metadata": {},
   "source": [
    "Exercise 3: \"Implement NeuronalNetwork composition example running a loop to execute neuron potential computation transitions\""
   ]
  },
  {
   "cell_type": "code",
   "execution_count": 45,
   "id": "16e554cc-0af7-48d8-8c52-02ec2c22c4dd",
   "metadata": {},
   "outputs": [
    {
     "name": "stdout",
     "output_type": "stream",
     "text": [
      "Neurons: blah type neuron (V=-75), Pyramidal type neuron (V=-65), Ovoid type neuron (V=-65), \n",
      "Neurons: blah type neuron (V=-65), Pyramidal type neuron (V=-65), Ovoid type neuron (V=-65), \n",
      "Neurons: blah type neuron (V=-60), Pyramidal type neuron (V=-60), Ovoid type neuron (V=-60), \n"
     ]
    }
   ],
   "source": [
    "class NeuronalNetwork():\n",
    "    def __init__(self, neuron_list):\n",
    "        self.neuron_list = neuron_list\n",
    "        self.l = len(neuron_list)\n",
    "    def __str__(self):\n",
    "        newstring = \"Neurons: \"\n",
    "        for x in self.neuron_list:\n",
    "            newstring += str(x) + \", \"\n",
    "        return newstring\n",
    "    #I'm making a serial connection between all neurons of the list\n",
    "    def V_update(self, kickstart):\n",
    "        self.neuron_list[0].receiveSpike(kickstart)\n",
    "        for i in range(1,self.l):\n",
    "            self.neuron_list[i].receiveSpike(self.neuron_list[i-1].sendSpike())\n",
    "            \n",
    "#I instantiate 3 neurons\n",
    "neuron1 = NeuronalCell(-75, \"blah\")\n",
    "neuron2 = PyramidalNeuron(-65)\n",
    "neuron3 = OvoidNeuron(-65)\n",
    "\n",
    "#I create a network with the 3 neurons\n",
    "network1 = NeuronalNetwork([neuron1, neuron2, neuron3])\n",
    "\n",
    "#The neurons in the network currently have membrane potentials of -75, -65, -65\n",
    "print(network1)\n",
    "\n",
    "#If I kickstart the potential in the first neuron with 10 mv or less, no spikes will be transmitted to the others\n",
    "network1.V_update(10)\n",
    "print(network1)\n",
    "\n",
    "#I give the first neuron another 5 mv:\n",
    "network1.V_update(5)\n",
    "\n",
    "#Now the spike travels through the other neurons:\n",
    "print(network1)"
   ]
  }
 ],
 "metadata": {
  "kernelspec": {
   "display_name": "Python 3 (ipykernel)",
   "language": "python",
   "name": "python3"
  },
  "language_info": {
   "codemirror_mode": {
    "name": "ipython",
    "version": 3
   },
   "file_extension": ".py",
   "mimetype": "text/x-python",
   "name": "python",
   "nbconvert_exporter": "python",
   "pygments_lexer": "ipython3",
   "version": "3.11.6"
  }
 },
 "nbformat": 4,
 "nbformat_minor": 5
}
