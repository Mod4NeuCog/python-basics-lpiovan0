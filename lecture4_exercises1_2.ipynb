{
 "cells": [
  {
   "cell_type": "raw",
   "id": "86b1ab35-6785-4a91-b162-85abfec53cfc",
   "metadata": {},
   "source": [
    "Exercise 1: Taxonomy of neuron models"
   ]
  },
  {
   "cell_type": "code",
   "execution_count": null,
   "id": "6e11ff2b-4c42-42e5-b4b3-5df6de9c7056",
   "metadata": {},
   "outputs": [],
   "source": [
    "#Making a NeuronalCell class\n",
    "class NeuronalCell:\n",
    "    #Constructor with attributes for the membrane potential and the type\n",
    "    def __init__(self, V_membrane, type):\n",
    "        self.V_membrane = V_membrane\n",
    "        self.type = type\n",
    "\n",
    "#PyramidalNeuron is a subclass of NeuronalCell:\n",
    "class PyramidalNeuron(NeuronalCell):\n",
    "    #I reuse the constructor from NeuronalCell\n",
    "    def __init__(self, V_membrane, type):\n",
    "        super().__init__(V_membrane, type)\n",
    "\n",
    "#Another subclass:\n",
    "class OvoidNeuron(NeuronalCell):\n",
    "    def __init__(self, V_membrane, type):\n",
    "        super().__init(V_membrane, type)"
   ]
  },
  {
   "cell_type": "raw",
   "id": "16e456cb-17c9-4f98-81cf-e6a2ec4ceec3",
   "metadata": {},
   "source": [
    "Exercise 2: Instantiation and interaction between neurons"
   ]
  },
  {
   "cell_type": "code",
   "execution_count": 18,
   "id": "5a55c21c-8647-4312-8c46-a884a26b2427",
   "metadata": {},
   "outputs": [
    {
     "name": "stdout",
     "output_type": "stream",
     "text": [
      "-75\n"
     ]
    }
   ],
   "source": [
    "#I remake the classes, adding methods to send and receive spikes:\n",
    "class NeuronalCell:\n",
    "    def __init__(self, V_membrane, type):\n",
    "        self.V_membrane = V_membrane\n",
    "        self.type = type\n",
    "    def receiveSpike(self, spike):\n",
    "        self.V_membrane = self.V_membrane + spike\n",
    "    def sendSpike(self):\n",
    "        if(self.V_membrane > -65):\n",
    "            return 5\n",
    "        else:\n",
    "            return 0\n",
    "\n",
    "class PyramidalNeuron(NeuronalCell):\n",
    "    def __init__(self, V_membrane, type):\n",
    "        super().__init__(V_membrane, type)\n",
    "\n",
    "class OvoidNeuron(NeuronalCell):\n",
    "    def __init__(self, V_membrane, type):\n",
    "        super().__init__(V_membrane, type)\n",
    "\n",
    "#I instantiate two different neurons\n",
    "n1 = PyramidalNeuron(-75, \"a\")\n",
    "n2 = OvoidNeuron(-80, \"b\")\n",
    "\n",
    "#I give n1 a spike of 20 mV to make it go above the threshold\n",
    "n1.receiveSpike(20)\n",
    "\n",
    "#If sendSpike is called, n1 will now fire a 5 mV spike, so I give this as an input to n2's receiveSpike:\n",
    "n2.receiveSpike(n1.sendSpike())\n",
    "\n",
    "#n2's membrane potential has changed to -75 because it received the spike:\n",
    "print(n2.V_membrane)\n"
   ]
  }
 ],
 "metadata": {
  "kernelspec": {
   "display_name": "Python 3 (ipykernel)",
   "language": "python",
   "name": "python3"
  },
  "language_info": {
   "codemirror_mode": {
    "name": "ipython",
    "version": 3
   },
   "file_extension": ".py",
   "mimetype": "text/x-python",
   "name": "python",
   "nbconvert_exporter": "python",
   "pygments_lexer": "ipython3",
   "version": "3.11.6"
  }
 },
 "nbformat": 4,
 "nbformat_minor": 5
}
