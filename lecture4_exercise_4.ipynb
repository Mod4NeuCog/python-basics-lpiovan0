{
 "cells": [
  {
   "cell_type": "raw",
   "id": "de272100-1a2d-4dd6-a090-5e7c02c80d0b",
   "metadata": {},
   "source": [
    "Exercise 4: Code neurons sharing a dopamine stock"
   ]
  },
  {
   "cell_type": "code",
   "execution_count": 8,
   "id": "a75e0830-7e4c-47c7-a62d-1a41ca5a1183",
   "metadata": {},
   "outputs": [
    {
     "name": "stdout",
     "output_type": "stream",
     "text": [
      "10\n",
      "9\n"
     ]
    }
   ],
   "source": [
    "class NeuronalCell:\n",
    "    def __init__(self, V_membrane, type):\n",
    "        self.V_membrane = V_membrane\n",
    "        self.type = type\n",
    "    def receiveSpike(self, spike):\n",
    "        self.V_membrane = self.V_membrane + spike\n",
    "    def sendSpike(self):\n",
    "        if(self.V_membrane > -65):\n",
    "            return 5\n",
    "        else:\n",
    "            return 0\n",
    "\n",
    "class DopamineCell:\n",
    "    #Dopamine stock for all DopamineCells\n",
    "    dopamine = 10\n",
    "    def __init__(self, V_membrane):\n",
    "        self.V_membrane = V_membrane\n",
    "        type = \"Dopamine cell\"\n",
    "    #I'm overriding the sendSpike method to decrease the stock whenever a cell fires\n",
    "    def sendSpike(self):\n",
    "        if(self.V_membrane > -65):\n",
    "            DopamineCell.dopamine -= 1\n",
    "            return 5\n",
    "        else:\n",
    "            return 0\n",
    "\n",
    "#I define a dopamine cell above the threshold\n",
    "d = DopamineCell(-60)\n",
    "\n",
    "#The stock is still 10\n",
    "print(DopamineCell.dopamine)\n",
    "\n",
    "#I make the neuron fire\n",
    "d.sendSpike()\n",
    "\n",
    "#Now the stock has decreased\n",
    "print(DopamineCell.dopamine)"
   ]
  }
 ],
 "metadata": {
  "kernelspec": {
   "display_name": "Python 3 (ipykernel)",
   "language": "python",
   "name": "python3"
  },
  "language_info": {
   "codemirror_mode": {
    "name": "ipython",
    "version": 3
   },
   "file_extension": ".py",
   "mimetype": "text/x-python",
   "name": "python",
   "nbconvert_exporter": "python",
   "pygments_lexer": "ipython3",
   "version": "3.11.6"
  }
 },
 "nbformat": 4,
 "nbformat_minor": 5
}
