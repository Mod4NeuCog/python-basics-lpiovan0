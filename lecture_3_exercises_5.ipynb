{
 "cells": [
  {
   "cell_type": "raw",
   "id": "5d2b9efd-16e5-41a6-b439-459a67c25d1d",
   "metadata": {},
   "source": [
    "Exercise 5:\n",
    "Modifying the algorithm from exercise 4 to add LIFO:"
   ]
  },
  {
   "cell_type": "raw",
   "id": "3414846c-a4fd-4a61-9a34-aa1db003e082",
   "metadata": {},
   "source": [
    "Algorithm (LIFO)\n",
    "----------\n",
    "Input: float V_membrane\n",
    "Input: Array weight_array\n",
    "Input: Array current_array\n",
    "Input: List[float] potential_list\n",
    "synapse_potentials(V_membrane, weight_array, current_array, potential_list):\n",
    "    float V_new <- V_membrane\n",
    "    for i in (0,length(weight_array)):\n",
    "        V_new <- V_new + weight_array[i]*current_array[i]\n",
    "    new_list <- potential_list\n",
    "    new_list.append(V_new)\n",
    "    Return: new_list\n",
    "remove_potential(potential_list):\n",
    "    popped_item <- potential_list.pop(0)\n",
    "    new_list <- potential_list\n",
    "    return List [popped_item, new_list]\n",
    "Output: potential_list"
   ]
  },
  {
   "cell_type": "raw",
   "id": "d6d56e07-5594-4f01-9a75-9027247f64dc",
   "metadata": {},
   "source": [
    "By default, the append function in python adds an item to the end of the list (last-in), so I take this for granted here. The function remove_potential returns the popped (first) item and the remaining list as a pair."
   ]
  },
  {
   "cell_type": "code",
   "execution_count": 15,
   "id": "ca32045b-7f50-48b0-a167-940a3bb1d2eb",
   "metadata": {},
   "outputs": [
    {
     "name": "stdout",
     "output_type": "stream",
     "text": [
      "[-50, -80, -73.3]\n",
      "[-50, [-80, -73.3]]\n"
     ]
    }
   ],
   "source": [
    "def synapse_potentials(V_membrane, weight_array, current_array, potential_list):\n",
    "    V_new = V_membrane\n",
    "    for i in range(0,len(weight_array)):\n",
    "        V_new += weight_array[i]*current_array[i]\n",
    "    new_list = potential_list\n",
    "    potential_list.append(V_new)\n",
    "    return new_list\n",
    "def remove_potential(potential_list):\n",
    "    popped_item = potential_list.pop(0)\n",
    "    new_list = potential_list\n",
    "    return [popped_item, new_list]\n",
    "\n",
    "potentials = [-50, -80]\n",
    "l = synapse_potentials(-75, [0.1,0.5], [2,3], potentials)\n",
    "print(l)\n",
    "print(remove_potential(l))"
   ]
  },
  {
   "cell_type": "raw",
   "id": "bdd63f4f-7e0e-49c8-a65b-5ae969f1147c",
   "metadata": {},
   "source": [
    "Algorithm (FIFO)\n",
    "----------\n",
    "Input: float V_membrane\n",
    "Input: Array weight_array\n",
    "Input: Array current_array\n",
    "Input: List[float] potential_list\n",
    "synapse_potentials(V_membrane, weight_array, current_array, potential_list):\n",
    "    float V_new <- V_membrane\n",
    "    for i in (0,length(weight_array)):\n",
    "        V_new <- V_new + weight_array[i]*current_array[i]\n",
    "    new_list <- potential_list.insert(0, V_new)\n",
    "    Return: new_list\n",
    "remove_potential(potential_list):\n",
    "    popped_item <- potential_list.pop(0)\n",
    "    new_list = potential_list\n",
    "    return [popped_item, new_list]\n",
    "Output: potential_list"
   ]
  },
  {
   "cell_type": "code",
   "execution_count": 17,
   "id": "e95d8e0c-12e3-45d7-9208-afc81731ec69",
   "metadata": {},
   "outputs": [
    {
     "name": "stdout",
     "output_type": "stream",
     "text": [
      "[-73.3, -50, -80]\n",
      "[-73.3, [-50, -80]]\n"
     ]
    }
   ],
   "source": [
    "def synapse_potentials(V_membrane, weight_array, current_array, potential_list):\n",
    "    V_new = V_membrane\n",
    "    for i in range(0,len(weight_array)):\n",
    "        V_new += weight_array[i]*current_array[i]\n",
    "    new_list = potential_list\n",
    "    new_list.insert(0, V_new)\n",
    "    return new_list\n",
    "def remove_potential(potential_list):\n",
    "    popped_item = potential_list.pop(0)\n",
    "    new_list = potential_list\n",
    "    return [popped_item, new_list]\n",
    "\n",
    "potentials = [-50, -80]\n",
    "l = synapse_potentials(-75, [0.1,0.5], [2,3], potentials)\n",
    "print(l)\n",
    "print(remove_potential(l))"
   ]
  },
  {
   "cell_type": "raw",
   "id": "255c77d6-c57d-4480-bbcb-34837d48ce4f",
   "metadata": {},
   "source": [
    "Exercise 6:\n",
    "Adding a hashmap"
   ]
  },
  {
   "cell_type": "raw",
   "id": "4bab803f-3d46-475c-99b3-80bf168aad98",
   "metadata": {},
   "source": [
    "Algorithm\n",
    "----------\n",
    "Input: float V_membrane\n",
    "Input: Array weight_array\n",
    "Input: Array current_array\n",
    "Input: Dictionary potential_hashmap\n",
    "synapse_potentials(V_membrane, weight_array, current_array, potential_hashmap):\n",
    "    float V_new <- V_membrane\n",
    "    for i in (0,length(weight_array)):\n",
    "        V_new <- V_new + weight_array[i]*current_array[i]\n",
    "    name <- \"Neuron \" + len(potential_hashmap)\n",
    "    new_hashmap <- potential_hashmap\n",
    "    new_hashmap[name] <- V_new\n",
    "    Return: new_hashmap\n",
    "Output: new_hashmap"
   ]
  },
  {
   "cell_type": "code",
   "execution_count": 3,
   "id": "e0465b38-ea9e-4603-b150-f62f26d566e5",
   "metadata": {},
   "outputs": [
    {
     "data": {
      "text/plain": [
       "{'Neuron 0': -60, 'Neuron 1': -72.7}"
      ]
     },
     "execution_count": 3,
     "metadata": {},
     "output_type": "execute_result"
    }
   ],
   "source": [
    "def synapse_potentials(V_membrane, weight_array, current_array, potential_hashmap):\n",
    "    V_new = V_membrane\n",
    "    for i in range(0,len(weight_array)):\n",
    "        V_new += weight_array[i]*current_array[i]\n",
    "    name = \"Neuron \" + str(len(potential_hashmap))\n",
    "    new_hashmap = potential_hashmap\n",
    "    new_hashmap[name] = V_new\n",
    "    return new_hashmap\n",
    "synapse_potentials(-75, [0.5,0.3], [1,6], {\"Neuron 0\":-60})"
   ]
  },
  {
   "cell_type": "raw",
   "id": "52bbcb16-ec69-4b3c-825e-f209155bf16d",
   "metadata": {},
   "source": [
    "Adding a multimap:\n",
    "Since python dictionaries don't allow for multiple items with the same key, I'm modifying the bag algorithm from exercise 3 to store key-potential pairs in a bag. The index to store the new membrane potential is taken as an input so that every time synapse_potentials is called one can decide which key to associate to the value (potentially putting more values under the same key)."
   ]
  },
  {
   "cell_type": "raw",
   "id": "f48f3f84-5504-41f0-a0cc-8926d9ad61e6",
   "metadata": {},
   "source": [
    "Algorithm\n",
    "----------\n",
    "Input: float V_membrane\n",
    "Input: Array weight_array\n",
    "Input: Array current_array\n",
    "Input: Multiset synapse_bag\n",
    "Input: int storing_index\n",
    "synapse_potentials(V_membrane, weight_array, current_array, synapse_bag, storing_index):\n",
    "    float V_new <- V_membrane\n",
    "    for i in (0,length(weight_array)):\n",
    "        V_new <- V_new + weight_array[i]*current_array[i]\n",
    "    new_bag <- synapse_bag + {storing_index,V_new)}\n",
    "    Return: new_bag\n",
    "Output: new_bag"
   ]
  },
  {
   "cell_type": "code",
   "execution_count": 22,
   "id": "e745f496-9d58-4233-9e94-de84fa72dcdd",
   "metadata": {},
   "outputs": [
    {
     "name": "stdout",
     "output_type": "stream",
     "text": [
      "{(0, -72.5)}\n",
      "{(0, -72.5), (1, -72.5)}\n",
      "{(0, -72.5), (1, -72.5), (0, -57.5)}\n"
     ]
    }
   ],
   "source": [
    "from multiset import *\n",
    "def synapse_potentials(V_membrane, weight_array, current_array, synapse_bag, storing_index):\n",
    "    V_new = V_membrane\n",
    "    for i in range(0,len(weight_array)):\n",
    "        V_new += weight_array[i]*current_array[i]\n",
    "    new_bag = synapse_bag + {(storing_index,V_new)}\n",
    "    return new_bag\n",
    "\n",
    "s0 = synapse_potentials(-75, [0.1,0.6], [1,4], Multiset(), 0)\n",
    "print(s0)\n",
    "s1 = synapse_potentials(-75, [0.1,0.6], [1,4], s0, 1)\n",
    "print(s1)\n",
    "s2 = synapse_potentials(-60, [0.1,0.6], [1,4], s1, 0)\n",
    "print(s2)"
   ]
  }
 ],
 "metadata": {
  "kernelspec": {
   "display_name": "Python 3 (ipykernel)",
   "language": "python",
   "name": "python3"
  },
  "language_info": {
   "codemirror_mode": {
    "name": "ipython",
    "version": 3
   },
   "file_extension": ".py",
   "mimetype": "text/x-python",
   "name": "python",
   "nbconvert_exporter": "python",
   "pygments_lexer": "ipython3",
   "version": "3.11.4"
  }
 },
 "nbformat": 4,
 "nbformat_minor": 5
}
